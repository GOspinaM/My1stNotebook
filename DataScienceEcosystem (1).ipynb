{
  "nbformat": 4,
  "nbformat_minor": 0,
  "metadata": {
    "colab": {
      "provenance": []
    },
    "kernelspec": {
      "name": "python3",
      "display_name": "Python 3"
    },
    "language_info": {
      "name": "python"
    }
  },
  "cells": [
    {
      "cell_type": "markdown",
      "source": [
        "# Data Science Tools and Ecosystem"
      ],
      "metadata": {
        "id": "tOGwp5dq51hb"
      }
    },
    {
      "cell_type": "markdown",
      "source": [
        "In this notebook, Data Science Tools and Ecosystem are summarized."
      ],
      "metadata": {
        "id": "81eLpShU6Yxb"
      }
    },
    {
      "cell_type": "markdown",
      "source": [
        "**Objectives:**\n",
        "\n",
        "\n",
        "+ Popular Languages\n",
        "+ Common library\n",
        "+ Data science tools\n",
        "+ examples of arithmetric evaluations\n",
        "+ Author"
      ],
      "metadata": {
        "id": "RefsY8nq-MxD"
      }
    },
    {
      "cell_type": "markdown",
      "source": [
        "Some of the popular languages that Data Scientists use are:\n",
        "\n",
        "\n",
        "1.   Python\n",
        "2.   R\n",
        "3.   Julia\n",
        "\n"
      ],
      "metadata": {
        "id": "K08nPzg26oJr"
      }
    },
    {
      "cell_type": "markdown",
      "source": [
        "Some of the commonly used libraries used by Data Scientists include:\n",
        "\n",
        "\n",
        "1.   Numpy\n",
        "2.   Pandas\n",
        "3.   Mathplotlib\n",
        "\n"
      ],
      "metadata": {
        "id": "r0M4T-Vw61Ib"
      }
    },
    {
      "cell_type": "markdown",
      "source": [
        "| Data Science Tools |\n",
        "| --- |\n",
        "| Anaconda |\n",
        "| TensorFlow |\n",
        "| Spark |"
      ],
      "metadata": {
        "id": "MPdyFMEp7R3E"
      }
    },
    {
      "cell_type": "markdown",
      "source": [
        "### Below are a few examples of evaluating arithmetic expressions in Python\n"
      ],
      "metadata": {
        "id": "PgK5Li7G9LSL"
      }
    },
    {
      "cell_type": "markdown",
      "source": [
        " This a simple arithmetic expression to mutiply then add integers"
      ],
      "metadata": {
        "id": "ST66_57U9nib"
      }
    },
    {
      "cell_type": "code",
      "source": [
        "(3*4)+5"
      ],
      "metadata": {
        "colab": {
          "base_uri": "https://localhost:8080/"
        },
        "id": "TzSgK9m89e3D",
        "outputId": "9f0cbbb5-194d-409f-ddc2-990743c2235a"
      },
      "execution_count": 1,
      "outputs": [
        {
          "output_type": "execute_result",
          "data": {
            "text/plain": [
              "17"
            ]
          },
          "metadata": {},
          "execution_count": 1
        }
      ]
    },
    {
      "cell_type": "markdown",
      "source": [
        "This will convert 200 minutes to hours by diving by 60"
      ],
      "metadata": {
        "id": "423bTu6q92BS"
      }
    },
    {
      "cell_type": "code",
      "source": [
        "200/60"
      ],
      "metadata": {
        "colab": {
          "base_uri": "https://localhost:8080/"
        },
        "id": "EglyXayV95mq",
        "outputId": "132e3f86-5e37-4b11-ba63-ea2951b7239f"
      },
      "execution_count": 2,
      "outputs": [
        {
          "output_type": "execute_result",
          "data": {
            "text/plain": [
              "3.3333333333333335"
            ]
          },
          "metadata": {},
          "execution_count": 2
        }
      ]
    },
    {
      "cell_type": "markdown",
      "source": [
        "## Author\n",
        "Gabriel Ospina M."
      ],
      "metadata": {
        "id": "_EyNzUM7-0Ub"
      }
    }
  ]
}