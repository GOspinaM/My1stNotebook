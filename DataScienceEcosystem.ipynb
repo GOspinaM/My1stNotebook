{
  "nbformat": 4,
  "nbformat_minor": 0,
  "metadata": {
    "colab": {
      "provenance": []
    },
    "kernelspec": {
      "name": "python3",
      "display_name": "Python 3"
    },
    "language_info": {
      "name": "python"
    }
  },
  "cells": [
    {
      "cell_type": "markdown",
      "source": [
        "# Data Science Tools and Ecosystem"
      ],
      "metadata": {
        "id": "tOGwp5dq51hb"
      }
    },
    {
      "cell_type": "markdown",
      "source": [
        "En este cuaderno, se resumen las herramientas y ecosistemas de ciencia de datos."
      ],
      "metadata": {
        "id": "81eLpShU6Yxb"
      }
    },
    {
      "cell_type": "markdown",
      "source": [
        "**Objetivos:**\n",
        "\n",
        "\n",
        "1.   Lenguajes Populares\n",
        "2.   Biblioteca comunes\n",
        "3.   Herramientas de la ciencia de datos\n",
        "4.   ejemplos de evaluciones aritmetricas\n",
        "5.   Autor"
      ],
      "metadata": {
        "id": "RefsY8nq-MxD"
      }
    },
    {
      "cell_type": "markdown",
      "source": [
        "Algunos de los lenguajes populares que utilizan los científicos de datos son:\n",
        "\n",
        "\n",
        "1.   Python\n",
        "2.   R\n",
        "3.   Julia\n",
        "\n"
      ],
      "metadata": {
        "id": "K08nPzg26oJr"
      }
    },
    {
      "cell_type": "markdown",
      "source": [
        "Algunas de las bibliotecas comúnmente utilizadas por los científicos de datos incluyen:\n",
        "\n",
        "\n",
        "1.   Numpy\n",
        "2.   Pandas\n",
        "3.   Mathplotlib\n",
        "\n"
      ],
      "metadata": {
        "id": "r0M4T-Vw61Ib"
      }
    },
    {
      "cell_type": "markdown",
      "source": [
        "| Herramientas de Ciencia de Datos |\n",
        "| --- |\n",
        "| Anaconda |\n",
        "| TensorFlow |\n",
        "| Spark |"
      ],
      "metadata": {
        "id": "MPdyFMEp7R3E"
      }
    },
    {
      "cell_type": "markdown",
      "source": [
        "### A continuación, se presentan algunos ejemplos de evaluación de expresiones aritméticas en Python.\n"
      ],
      "metadata": {
        "id": "PgK5Li7G9LSL"
      }
    },
    {
      "cell_type": "markdown",
      "source": [
        "Esta es una expresión aritmética simple para multiplicar y luego sumar enteros."
      ],
      "metadata": {
        "id": "ST66_57U9nib"
      }
    },
    {
      "cell_type": "code",
      "source": [
        "(3*4)+5"
      ],
      "metadata": {
        "colab": {
          "base_uri": "https://localhost:8080/"
        },
        "id": "TzSgK9m89e3D",
        "outputId": "9f0cbbb5-194d-409f-ddc2-990743c2235a"
      },
      "execution_count": 1,
      "outputs": [
        {
          "output_type": "execute_result",
          "data": {
            "text/plain": [
              "17"
            ]
          },
          "metadata": {},
          "execution_count": 1
        }
      ]
    },
    {
      "cell_type": "markdown",
      "source": [
        "Esto convertirá 200 minutos a horas dividiendo por 60"
      ],
      "metadata": {
        "id": "423bTu6q92BS"
      }
    },
    {
      "cell_type": "code",
      "source": [
        "200/60"
      ],
      "metadata": {
        "colab": {
          "base_uri": "https://localhost:8080/"
        },
        "id": "EglyXayV95mq",
        "outputId": "132e3f86-5e37-4b11-ba63-ea2951b7239f"
      },
      "execution_count": 2,
      "outputs": [
        {
          "output_type": "execute_result",
          "data": {
            "text/plain": [
              "3.3333333333333335"
            ]
          },
          "metadata": {},
          "execution_count": 2
        }
      ]
    },
    {
      "cell_type": "markdown",
      "source": [
        "## Autor\n",
        "Gabriel Ospina M."
      ],
      "metadata": {
        "id": "_EyNzUM7-0Ub"
      }
    }
  ]
}